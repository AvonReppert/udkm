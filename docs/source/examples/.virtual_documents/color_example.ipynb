## Import relevant packages to run examples
import os
import numpy as np
import matplotlib.pyplot as plt
from matplotlib.patches import Rectangle

import udkm.tools.colors as colors

plt.style.use("../../../udkm/tools/udkm_base.mplstyle")

cwd = os.getcwd()
example_data_path='../../../udkm/tools/example/'
os.chdir(example_data_path)


colors_list = [colors.blue_1, colors.red_1, colors.orange_1, colors.grey_1,
               colors.blue_2, colors.red_2, colors.orange_2, colors.grey_2,
               colors.blue_3, colors.red_3, colors.orange_3, colors.grey_3,
               colors.blue_4, colors.red_4, colors.orange_4, colors.grey_4]

name_list = ["blue_1", "red_1", "orange_1", "grey_1",
             "blue_2", "red_2", "orange_2", "grey_2",
             "blue_3", "red_3", "orange_3", "grey_3",
             "blue_4", "red_4", "orange_4", "grey_4"]


cell_width = 212
cell_height = 22
swatch_width = 48
margin = 12
topmargin = 40


n = len(name_list)
ncols = 4
nrows = n // ncols + int(n % ncols > 0)

width = cell_width * 4 + 2 * margin
height = cell_height * nrows + margin + topmargin
dpi = 160

fig, ax = plt.subplots(figsize=(width / dpi, height / dpi), dpi=dpi)
fig.subplots_adjust(margin/width, margin/height,
                    (width-margin)/width, (height-topmargin)/height)
ax.set_xlim(0, cell_width * 4)
ax.set_ylim(cell_height * (nrows-0.5), -cell_height/2.)
ax.yaxis.set_visible(False)
ax.xaxis.set_visible(False)
ax.set_axis_off()
ax.set_title("predefined colors", fontsize=10, loc="left", pad=10)

for i, name in enumerate(name_list):
    row = i % nrows
    col = i // nrows
    y = row * cell_height

    swatch_start_x = cell_width * col
    text_pos_x = cell_width * col + swatch_width + 7

    ax.text(text_pos_x, y, name, fontsize=8,
            horizontalalignment='left',
            verticalalignment='center')

    ax.add_patch(
        Rectangle(xy=(swatch_start_x, y-9), width=swatch_width,
                  height=18, facecolor=colors_list[i])
    )


# used predefined colors directly
x = np.arange(0,10,0.1)

plt.figure()
plt.plot(x, np.sin(x), label="sin(x)", lw=2, color=colors.orange_2)
plt.plot(x, np.cos(x), label="cos(x)", lw=2, color=colors.blue_1)
plt.plot(x, np.tan(x), label="tan(x)", lw=2, color=colors.red_1)
plt.axhline(y= 0, ls = "--", color = colors.grey_3)
plt.legend(loc = 1)
plt.title("example for use of predefined colors")
plt.ylim(-2,2)
plt.show()


# define function that plots an overview of colormaps
gradient = np.linspace(0, 1, 256)
gradient = np.vstack((gradient, gradient))


def plot_color_gradients(category, cmap_list):
    # Create figure and adjust figure height to number of colormaps
    nrows = len(cmap_list)
    figh = 0.35 + 0.15 + (nrows + (nrows - 1) * 0.1) * 0.22
    fig, axs = plt.subplots(nrows=nrows + 1, figsize=(6.4, figh))
    fig.subplots_adjust(top=1 - 0.35 / figh, bottom=0.15 / figh,
                        left=0.2, right=0.99)
    axs[0].set_title(f'{category} colormaps', fontsize=14)
    counter = 0
    for ax, name in zip(axs, cmap_list):
        ax.imshow(gradient, aspect='auto', cmap=cmap_list[counter])
        ax.text(-0.01, 0.5, name_list[counter], va='center', ha='right', fontsize=10,
                transform=ax.transAxes)
        counter += 1

    # Turn off *all* ticks & spines, not just the ones with colormaps.
    for ax in axs:
        ax.set_axis_off()
    plt.savefig(category+".png", dpi=300, bbox_inches="tight")


cmap_list = [colors.cmap_1, colors.cmap_2, colors.cmap_3, colors.fireice()]
name_list = ["cmap_1", "cmap_2", "cmap_3", "fireice"]
plot_color_gradients('multicolor', cmap_list)


cmap_list = [colors.cmap_blue_red_1, colors.cmap_blue_red_2, colors.cmap_blue_red_3, colors.cmap_blue_red_4,
             colors.cmap_blue_red_5, colors.cmap_red_blue_1, colors.cmap_red_blue_2
             ]
name_list = ["blue_red_1", "blue_red_2", "blue_red_3", "blue_red_4",
             "blue_red_5", "red_blue_1", "red_blue_2"
             ]
plot_color_gradients('bipolar', cmap_list)


cmap_list = [colors.cmap_blue_1, colors.cmap_blue_2, colors.cmap_blue_3,
             colors.cmap_blue_4, colors.cmap_blue_5]
name_list = ["blue_1", "blue_2", "blue_3", "blue_4", "blue_5"]
plot_color_gradients('blue', cmap_list)


cmap_list = [colors.cmap_red_1, colors.cmap_red_2, colors.cmap_red_3, colors.cmap_red_4]
name_list = ["red_1", "red_2", "red_3", "red_4"]
plot_color_gradients('red', cmap_list)


cmap_list = [colors.cmap_gold_1, colors.cmap_gold_2, colors.cmap_gold_3, colors.cmap_gold_4]
name_list = ["gold_1", "gold_2", "gold_3", "gold_4"]
plot_color_gradients('gold', cmap_list)


x = np.arange(0,10,0.1)
n_lines = 7

plt.figure()
for i in range(n_lines):
    color = colors.cmap_blue_red_3(i/(n_lines-1))
    plt.plot(x, i*np.sin(x), label=str(i), lw=2, color=color)
plt.title(r"colors.cmap_blue_red_3 $\mathrm{i}\cdot\sin{x}$")
plt.legend(ncol = 2, title = "i = ")
plt.show()


x = np.arange(0,10,0.1)
y = np.arange(0,10,0.1)
xx, yy = np.meshgrid(x, y)
Z = np.sqrt(xx**2 + yy**2)

# The standard colormap works like this
plt.figure()
p = plt.pcolormesh(xx, yy, Z, cmap=colors.cmap_blue_1)
plt.colorbar(p, orientation='vertical')
plt.title(r"colors.cmap_blue_1 $\sqrt{x^2 + y^2}$")
plt.show()

# The fireice colormap requires a little special syntax
plt.figure()
p = plt.pcolormesh(xx, yy, Z, cmap=colors.fireice())
plt.colorbar(p, orientation='vertical')  
plt.title(r"colors.fireice() $\sqrt{x^2 + y^2}$")
plt.show()


# change back to cwd 
os.chdir(cwd)
