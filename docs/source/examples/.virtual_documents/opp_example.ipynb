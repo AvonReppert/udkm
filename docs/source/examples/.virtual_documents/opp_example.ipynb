import os
import matplotlib.pyplot as plt

import udkm.tools.colors as colors
import udkm.opp.functions as opp
import udkm.tools.plot as plot

plt.style.use("../../../udkm/tools/udkm_base.mplstyle")

example_data_path='../../../udkm/opp/example/'
os.chdir(example_data_path)

parameter_file_name = "parameters/parameters_example_1.txt"

line = 1  #

params = opp.get_scan_parameter(parameter_file_name, line)

params["data_directory"] = "data\\"
params["probe_method"] = "transmission"

params["bool_force_reload"] = False

params["slice_wl"] = [1200, 2300]
params["slice_wl_width"] = [200, 200]

params["slice_delay"] = [1]
params["slice_delay_width"] = [0.5]


params["t0"] = -2008.75
params["exclude_loops"] = []
params["bool_force_reload"] = True
params["symmetric_colormap"] = True

params["delay_min"] = -1
params["delay_max"] = 4

params["wl_min"] = 1100
params["wl_max"] = 2500


scan = opp.load_data(params)



opp.plot_overview(scan)



# Here I will add dispersion correction soon
