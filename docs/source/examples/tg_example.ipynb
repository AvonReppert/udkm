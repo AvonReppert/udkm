{
 "cells": [
  {
   "cell_type": "markdown",
   "id": "9edefc4c-38bf-4a40-bd85-2d51dd01010a",
   "metadata": {},
   "source": [
    "# Transient Grating example code\n",
    "\n",
    "the following snippets provide an example for the usage of the tg module for frequently use cases"
   ]
  },
  {
   "cell_type": "markdown",
   "id": "95316505",
   "metadata": {},
   "source": [
    "## simple overview plot"
   ]
  },
  {
   "cell_type": "code",
   "execution_count": null,
   "id": "a67cf340",
   "metadata": {
    "scrolled": true
   },
   "outputs": [],
   "source": []
  },
  {
   "cell_type": "markdown",
   "id": "e96983ba-66d5-46d5-8620-38d9a929f961",
   "metadata": {
    "tags": []
   },
   "source": []
  }
 ],
 "metadata": {
  "kernelspec": {
   "display_name": "Python 3 (ipykernel)",
   "language": "python",
   "name": "python3"
  },
  "language_info": {
   "codemirror_mode": {
    "name": "ipython",
    "version": 3
   },
   "file_extension": ".py",
   "mimetype": "text/x-python",
   "name": "python",
   "nbconvert_exporter": "python",
   "pygments_lexer": "ipython3",
   "version": "3.9.10"
  }
 },
 "nbformat": 4,
 "nbformat_minor": 5
}
