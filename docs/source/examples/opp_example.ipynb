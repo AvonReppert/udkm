{
 "cells": [
  {
   "cell_type": "markdown",
   "id": "9edefc4c-38bf-4a40-bd85-2d51dd01010a",
   "metadata": {},
   "source": [
    "# Optical pump probe spectroscopy  example code\n",
    "\n",
    "the following snippets provide an example for the usage of the opp module for frequently use cases"
   ]
  },
  {
   "cell_type": "markdown",
   "id": "95316505",
   "metadata": {},
   "source": [
    "## loading data"
   ]
  },
  {
   "cell_type": "code",
   "execution_count": 1,
   "id": "a67cf340",
   "metadata": {
    "scrolled": true
   },
   "outputs": [
    {
     "ename": "ModuleNotFoundError",
     "evalue": "No module named 'udkm'",
     "output_type": "error",
     "traceback": [
      "\u001b[1;31m---------------------------------------------------------------------------\u001b[0m",
      "\u001b[1;31mModuleNotFoundError\u001b[0m                       Traceback (most recent call last)",
      "\u001b[1;32m~\\AppData\\Local\\Temp\\ipykernel_20584\\1367214589.py\u001b[0m in \u001b[0;36m<module>\u001b[1;34m\u001b[0m\n\u001b[0;32m      2\u001b[0m \u001b[1;32mimport\u001b[0m \u001b[0mmatplotlib\u001b[0m\u001b[1;33m.\u001b[0m\u001b[0mpyplot\u001b[0m \u001b[1;32mas\u001b[0m \u001b[0mplt\u001b[0m\u001b[1;33m\u001b[0m\u001b[1;33m\u001b[0m\u001b[0m\n\u001b[0;32m      3\u001b[0m \u001b[1;33m\u001b[0m\u001b[0m\n\u001b[1;32m----> 4\u001b[1;33m \u001b[1;32mimport\u001b[0m \u001b[0mudkm\u001b[0m\u001b[1;33m.\u001b[0m\u001b[0mtools\u001b[0m\u001b[1;33m.\u001b[0m\u001b[0mcolors\u001b[0m \u001b[1;32mas\u001b[0m \u001b[0mcolors\u001b[0m\u001b[1;33m\u001b[0m\u001b[1;33m\u001b[0m\u001b[0m\n\u001b[0m\u001b[0;32m      5\u001b[0m \u001b[1;32mimport\u001b[0m \u001b[0mudkm\u001b[0m\u001b[1;33m.\u001b[0m\u001b[0mopp\u001b[0m\u001b[1;33m.\u001b[0m\u001b[0mfunctions\u001b[0m \u001b[1;32mas\u001b[0m \u001b[0mopp\u001b[0m\u001b[1;33m\u001b[0m\u001b[1;33m\u001b[0m\u001b[0m\n\u001b[0;32m      6\u001b[0m \u001b[1;32mimport\u001b[0m \u001b[0mudkm\u001b[0m\u001b[1;33m.\u001b[0m\u001b[0mtools\u001b[0m\u001b[1;33m.\u001b[0m\u001b[0mplot\u001b[0m \u001b[1;32mas\u001b[0m \u001b[0mplot\u001b[0m\u001b[1;33m\u001b[0m\u001b[1;33m\u001b[0m\u001b[0m\n",
      "\u001b[1;31mModuleNotFoundError\u001b[0m: No module named 'udkm'"
     ]
    }
   ],
   "source": [
    "import os\n",
    "import matplotlib.pyplot as plt\n",
    "\n",
    "import udkm.tools.colors as colors\n",
    "import udkm.opp.functions as opp\n",
    "import udkm.tools.plot as plot\n",
    "\n",
    "plt.style.use(\"../../../udkm/tools/udkm_base.mplstyle\")\n",
    "\n",
    "example_data_path='../../../udkm/opp/example/'\n",
    "os.chdir(example_data_path)\n",
    "\n",
    "parameter_file_name = \"parameters/parameters_example_1.txt\"\n",
    "\n",
    "line = 0  # welchen Datensatz man auswerten möchte\n",
    "\n",
    "params = opp.get_scan_parameter(parameter_file_name, line)\n",
    "\n",
    "params[\"data_directory\"] = \"data\\\\\"\n",
    "params[\"probe_method\"] = \"transmission\"\n",
    "scan = opp.load_data(params)\n"
   ]
  },
  {
   "cell_type": "markdown",
   "id": "7444dd44",
   "metadata": {},
   "source": [
    "## overview plot "
   ]
  }
 ],
 "metadata": {
  "kernelspec": {
   "display_name": "Python 3 (ipykernel)",
   "language": "python",
   "name": "python3"
  },
  "language_info": {
   "codemirror_mode": {
    "name": "ipython",
    "version": 3
   },
   "file_extension": ".py",
   "mimetype": "text/x-python",
   "name": "python",
   "nbconvert_exporter": "python",
   "pygments_lexer": "ipython3",
   "version": "3.9.13"
  }
 },
 "nbformat": 4,
 "nbformat_minor": 5
}
